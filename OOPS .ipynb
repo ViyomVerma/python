{
 "cells": [
  {
   "cell_type": "markdown",
   "id": "60bfad4a-cac5-4acd-be7d-1d799f1ee06e",
   "metadata": {},
   "source": [
    "# OOPS in python"
   ]
  },
  {
   "cell_type": "code",
   "execution_count": null,
   "id": "bff62f29-2f80-4d35-ab7a-0a36d0292c5c",
   "metadata": {},
   "outputs": [],
   "source": [
    "'''1.) class - is a collection of objects and function.\n",
    "Syntax:-\n",
    "        class< classname>:\n",
    "        -------statement"
   ]
  },
  {
   "cell_type": "code",
   "execution_count": 2,
   "id": "35759947-6b02-4c60-a82e-faeab65932f1",
   "metadata": {},
   "outputs": [
    {
     "name": "stdout",
     "output_type": "stream",
     "text": [
      "Viyom Verma\n"
     ]
    }
   ],
   "source": [
    "# print your name yusing class\n",
    "\n",
    "\n",
    "class Viyom:\n",
    "    print(\"Viyom Verma\")"
   ]
  },
  {
   "cell_type": "code",
   "execution_count": 10,
   "id": "8f3cc80b-0e4e-4668-90eb-0e4277d1821f",
   "metadata": {},
   "outputs": [
    {
     "name": "stdout",
     "output_type": "stream",
     "text": [
      "19\n"
     ]
    }
   ],
   "source": [
    "# creating object\n",
    "\n",
    "class Viyom:\n",
    "    age=19\n",
    "    email=\"viyomverma@gmail.com\"\n",
    "\n",
    "viyom:Viyom=Viyom()\n",
    "print(viyom.age)"
   ]
  },
  {
   "cell_type": "code",
   "execution_count": 24,
   "id": "15223fdc-aff4-4191-8097-1eb31a495422",
   "metadata": {},
   "outputs": [
    {
     "name": "stdout",
     "output_type": "stream",
     "text": [
      "19\n",
      "my monthly pocket money is 1600\n"
     ]
    }
   ],
   "source": [
    "# class with objects and function\n",
    "\n",
    "class Student:\n",
    "    name=\"Viyom\"\n",
    "    email=\"viyom@gmail.com\"\n",
    "    def findMyAge(this, cy, by):  #this keyword is used to pass current class reference \n",
    "        ageInYear=cy-by\n",
    "        print(ageInYear)  \n",
    "    def monthly_pocket_money(this, weekly_money):\n",
    "        print(\"my monthly pocket money is\",weekly_money *4)\n",
    "        \n",
    "stu:Student=Student() #creating object \n",
    "stu.findMyAge(2024,2005)\n",
    "stu.monthly_pocket_money(400)    \n"
   ]
  },
  {
   "cell_type": "code",
   "execution_count": null,
   "id": "efc601d9-2046-47bc-a145-cab15f868845",
   "metadata": {},
   "outputs": [],
   "source": []
  },
  {
   "cell_type": "code",
   "execution_count": null,
   "id": "fc5673fd-4d34-425a-a944-dcd70ce479b0",
   "metadata": {},
   "outputs": [],
   "source": []
  },
  {
   "cell_type": "code",
   "execution_count": null,
   "id": "979d6601-0e49-4e20-b826-deede4046a65",
   "metadata": {},
   "outputs": [],
   "source": []
  },
  {
   "cell_type": "code",
   "execution_count": null,
   "id": "98227cf9-8e51-48c4-b672-53deff585552",
   "metadata": {},
   "outputs": [],
   "source": []
  }
 ],
 "metadata": {
  "kernelspec": {
   "display_name": "Python 3 (ipykernel)",
   "language": "python",
   "name": "python3"
  },
  "language_info": {
   "codemirror_mode": {
    "name": "ipython",
    "version": 3
   },
   "file_extension": ".py",
   "mimetype": "text/x-python",
   "name": "python",
   "nbconvert_exporter": "python",
   "pygments_lexer": "ipython3",
   "version": "3.12.4"
  }
 },
 "nbformat": 4,
 "nbformat_minor": 5
}
