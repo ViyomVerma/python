{
 "cells": [
  {
   "cell_type": "markdown",
   "id": "a7ac75bb-398f-4390-9cf1-e75720a39e16",
   "metadata": {},
   "source": [
    "# STORE DATA"
   ]
  },
  {
   "cell_type": "markdown",
   "id": "f4eecdeb-2302-42da-bde7-85487f43d7d8",
   "metadata": {},
   "source": [
    "# 1.) LIST"
   ]
  },
  {
   "cell_type": "code",
   "execution_count": 7,
   "id": "e8824f29-1e8d-497c-83bd-ce7c15f958ce",
   "metadata": {},
   "outputs": [
    {
     "name": "stdout",
     "output_type": "stream",
     "text": [
      "['pawan', 'manan', 'mukul', 'tanya']\n"
     ]
    }
   ],
   "source": [
    "friendsname=[\"pawan\",\"manan\",\"mukul\",\"tanya\"]\n",
    "print(friendsname)"
   ]
  },
  {
   "cell_type": "code",
   "execution_count": 9,
   "id": "d99ac894-9aa0-454b-a4b1-49a2eff36d31",
   "metadata": {},
   "outputs": [
    {
     "name": "stdout",
     "output_type": "stream",
     "text": [
      "['manan', 'mukul', 'tanya']\n"
     ]
    }
   ],
   "source": [
    "# delete pawan\n",
    "\n",
    "friendsname=[\"pawan\",\"manan\",\"mukul\",\"tanya\"]\n",
    "friendsname.remove(\"pawan\")\n",
    "print(friendsname)"
   ]
  },
  {
   "cell_type": "code",
   "execution_count": 11,
   "id": "66eb58df-771c-416b-8d5c-42ff61f65800",
   "metadata": {},
   "outputs": [
    {
     "name": "stdout",
     "output_type": "stream",
     "text": [
      "pawan\n",
      "manan\n",
      "mukul\n",
      "tanya\n"
     ]
    }
   ],
   "source": [
    "# Access the data\n",
    "friendsname=[\"pawan\",\"manan\",\"mukul\",\"tanya\"]\n",
    "for x in friendsname:\n",
    "    print(x)"
   ]
  },
  {
   "cell_type": "code",
   "execution_count": 19,
   "id": "9494097f-d587-4713-bd2d-a049599b85e5",
   "metadata": {},
   "outputs": [
    {
     "name": "stdout",
     "output_type": "stream",
     "text": [
      "pawan\n",
      "manan\n",
      "mukul sharma\n",
      "tanya\n"
     ]
    }
   ],
   "source": [
    "# Update mukul to mukul sharma\n",
    "\n",
    "friendsname=[\"pawan\",\"manan\",\"mukul\",\"tanya\"]\n",
    "friendsname[2]=\"mukul sharma\"\n",
    "for x in friendsname:\n",
    "    print(x)"
   ]
  },
  {
   "cell_type": "code",
   "execution_count": 21,
   "id": "9ffb6c5f-6ef2-4474-89a2-1679ee6c0985",
   "metadata": {},
   "outputs": [
    {
     "name": "stdout",
     "output_type": "stream",
     "text": [
      "pawan\n",
      "manan\n",
      "mukul\n",
      "manan\n",
      "tanya\n"
     ]
    }
   ],
   "source": [
    "#add viyom and print the data\n",
    "friendsname=[\"pawan\",\"manan\",\"mukul\",\"tanya\"]\n",
    "friendsname.insert(3,\"manan\")\n",
    "for x in friendsname:\n",
    "    print(x)"
   ]
  },
  {
   "cell_type": "markdown",
   "id": "fd77d8b8-4bdd-4794-8abf-0561d8f1c8e4",
   "metadata": {},
   "source": [
    "# 2.) DICTONARY"
   ]
  },
  {
   "cell_type": "code",
   "execution_count": 29,
   "id": "2a36701f-4b8a-4143-9295-f08fb2246211",
   "metadata": {},
   "outputs": [
    {
     "name": "stdout",
     "output_type": "stream",
     "text": [
      "{'name': ['pawan', 'mukul', 'manan', 'tanya']}\n"
     ]
    }
   ],
   "source": [
    "# add data pawan , mukul , manan , tanya\n",
    "\n",
    "myinfo ={\"name\" :[ \"pawan\",\"mukul\",\"manan\",\"tanya\"]}\n",
    "print(myinfo)"
   ]
  },
  {
   "cell_type": "code",
   "execution_count": 43,
   "id": "859f96c7-46cb-4e48-b77a-6791accdc3bb",
   "metadata": {},
   "outputs": [
    {
     "name": "stdout",
     "output_type": "stream",
     "text": [
      "manan\n",
      "mukul\n",
      "tanya\n"
     ]
    }
   ],
   "source": [
    "#delete pawan\n",
    "myinfo ={\"name1\" : \"pawan\",\n",
    "         \"name2\" : \"manan\",\n",
    "         \"name3\" : \"mukul\",\n",
    "         \"name4\" : \"tanya\" }\n",
    "myinfo.pop(\"name1\")\n",
    "for i in myinfo.values():\n",
    "    print(i)\n",
    "\n"
   ]
  },
  {
   "cell_type": "code",
   "execution_count": 45,
   "id": "f4b52cb7-96fa-4eb2-a21b-44f175a73471",
   "metadata": {},
   "outputs": [
    {
     "name": "stdout",
     "output_type": "stream",
     "text": [
      "pawan\n",
      "manan\n",
      "mukul\n",
      "tanya\n"
     ]
    }
   ],
   "source": [
    "#Access the data\n",
    "myinfo ={\"name1\" : \"pawan\",\n",
    "         \"name2\" : \"manan\",\n",
    "         \"name3\" : \"mukul\",\n",
    "         \"name4\" : \"tanya\" }\n",
    "\n",
    "for i in myinfo.values():\n",
    "    print(i)"
   ]
  },
  {
   "cell_type": "code",
   "execution_count": null,
   "id": "17e72728-44fb-4e71-b4ef-5c445ddc03b5",
   "metadata": {},
   "outputs": [],
   "source": []
  }
 ],
 "metadata": {
  "kernelspec": {
   "display_name": "Python 3 (ipykernel)",
   "language": "python",
   "name": "python3"
  },
  "language_info": {
   "codemirror_mode": {
    "name": "ipython",
    "version": 3
   },
   "file_extension": ".py",
   "mimetype": "text/x-python",
   "name": "python",
   "nbconvert_exporter": "python",
   "pygments_lexer": "ipython3",
   "version": "3.12.4"
  }
 },
 "nbformat": 4,
 "nbformat_minor": 5
}
