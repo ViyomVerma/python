{
 "cells": [
  {
   "cell_type": "code",
   "execution_count": 1,
   "id": "f9eb1015-fb26-4fdc-b6e5-73ebcd3b9333",
   "metadata": {},
   "outputs": [
    {
     "name": "stdout",
     "output_type": "stream",
     "text": [
      "HELLO WORLD\n"
     ]
    }
   ],
   "source": [
    "# Python program to print \"Hello Python\"\n",
    "\n",
    "print(\"HELLO WORLD\")"
   ]
  },
  {
   "cell_type": "code",
   "execution_count": 3,
   "id": "0b3deb5b-a520-4539-9218-46d4a04b1a80",
   "metadata": {},
   "outputs": [
    {
     "name": "stdout",
     "output_type": "stream",
     "text": [
      "value of c1 9\n",
      "value of c2 5\n",
      "value of c3 14\n",
      "value of c4 0.2857142857142857\n"
     ]
    }
   ],
   "source": [
    "# Python program to do arithmetical operations\n",
    "\n",
    "a=2\n",
    "b=7\n",
    "c1=a+b\n",
    "c2=b-a\n",
    "c3=a*b\n",
    "c4=a/b\n",
    "print(\"value of c1\",c1)\n",
    "print(\"value of c2\",c2)\n",
    "print(\"value of c3\",c3)\n",
    "print(\"value of c4\",c4)"
   ]
  },
  {
   "cell_type": "code",
   "execution_count": 9,
   "id": "791818d6-0567-4a5d-9176-3198ef8b79e1",
   "metadata": {},
   "outputs": [
    {
     "name": "stdin",
     "output_type": "stream",
     "text": [
      "enter the height of the traingle 10\n",
      "enter the breadth of the traingle 2\n"
     ]
    },
    {
     "name": "stdout",
     "output_type": "stream",
     "text": [
      "the area of the triangle is 10.0\n"
     ]
    }
   ],
   "source": [
    "# Python program to find the area of a triangle\n",
    "# area of traingle = 1/2 * h*b\n",
    "# taking values of height and breadth from the user\n",
    "\n",
    "h=float(input(\"enter the height of the traingle\"))\n",
    "b=float(input(\"enter the breadth of the traingle\"))\n",
    "area=1/2*h*b\n",
    "print(\"the area of the triangle is\",area)"
   ]
  },
  {
   "cell_type": "code",
   "execution_count": 19,
   "id": "f7591e3c-f6e3-4175-a8ce-8afab59bbe83",
   "metadata": {},
   "outputs": [
    {
     "name": "stdin",
     "output_type": "stream",
     "text": [
      "enter first value 5\n",
      "enter second number 10\n"
     ]
    },
    {
     "name": "stdout",
     "output_type": "stream",
     "text": [
      "value of a= 10\n",
      "value of b= 5\n"
     ]
    }
   ],
   "source": [
    "# Python program to swap two variables\n",
    "a=int(input(\"enter first value\"))\n",
    "b=int(input(\"enter second number\"))\n",
    "\n",
    "temp=a\n",
    "a=b\n",
    "b=temp\n",
    "\n",
    "print(\"value of a=\",a)\n",
    "print(\"value of b=\",b)\n"
   ]
  },
  {
   "cell_type": "code",
   "execution_count": 21,
   "id": "ca64e8c1-dbab-43c0-bd3b-32da14427430",
   "metadata": {},
   "outputs": [
    {
     "name": "stdout",
     "output_type": "stream",
     "text": [
      "Random Integer between 100 to 200: 105\n",
      "Random Integer between 100 to 200: 103\n",
      "Random Integer between 100 to 200: 103\n"
     ]
    }
   ],
   "source": [
    "# Python program to generate a random number\n",
    "\n",
    "# Importing the random module  \n",
    "import random  \n",
    "  \n",
    "# Using randint function from the random module  \n",
    "n = random.randint(100, 200)  \n",
    "  \n",
    "# Printing Results  \n",
    "print(\"Random Integer between 100 to 200:\", n)  \n",
    "print(\"Random Integer between 100 to 200:\", random.randint(100, 200))  \n",
    "print(\"Random Integer between 100 to 200:\", random.randint(100, 200))  \n"
   ]
  },
  {
   "cell_type": "code",
   "execution_count": null,
   "id": "4fa2a92c-0e94-4690-945e-98931323d8eb",
   "metadata": {},
   "outputs": [],
   "source": [
    "\n"
   ]
  }
 ],
 "metadata": {
  "kernelspec": {
   "display_name": "Python 3 (ipykernel)",
   "language": "python",
   "name": "python3"
  },
  "language_info": {
   "codemirror_mode": {
    "name": "ipython",
    "version": 3
   },
   "file_extension": ".py",
   "mimetype": "text/x-python",
   "name": "python",
   "nbconvert_exporter": "python",
   "pygments_lexer": "ipython3",
   "version": "3.12.4"
  }
 },
 "nbformat": 4,
 "nbformat_minor": 5
}
