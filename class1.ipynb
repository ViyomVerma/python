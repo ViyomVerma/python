{
 "cells": [
  {
   "cell_type": "code",
   "execution_count": null,
   "id": "a9ad5d7f-dd35-4a4b-a3db-1427b5cdaf5d",
   "metadata": {},
   "outputs": [],
   "source": [
    "#Arithematic Operator\n",
    "+,_,*,/,//,%"
   ]
  },
  {
   "cell_type": "code",
   "execution_count": 9,
   "id": "8021ff27-20e4-48dd-a272-f8bae73e739d",
   "metadata": {},
   "outputs": [
    {
     "data": {
      "text/plain": [
       "40"
      ]
     },
     "execution_count": 9,
     "metadata": {},
     "output_type": "execute_result"
    }
   ],
   "source": [
    "#ADDITION OF TWO NUMBER\n",
    "a=10\n",
    "b=30\n",
    "c=a+b\n",
    "c"
   ]
  },
  {
   "cell_type": "code",
   "execution_count": 7,
   "id": "13613b86-eee2-4278-823b-bdb0563d74f7",
   "metadata": {},
   "outputs": [
    {
     "name": "stdin",
     "output_type": "stream",
     "text": [
      "Enter first number 10\n",
      "Enter second number 20\n"
     ]
    },
    {
     "name": "stdout",
     "output_type": "stream",
     "text": [
      "the addition is 30\n"
     ]
    }
   ],
   "source": [
    "a=int(input(\"Enter first number\"))\n",
    "b=int(input(\"Enter second number\"))\n",
    "c=a+b\n",
    "print('the addition is', c)"
   ]
  },
  {
   "cell_type": "code",
   "execution_count": 4,
   "id": "479ecba4-e2a7-43b0-ab53-7f31992ff962",
   "metadata": {},
   "outputs": [
    {
     "name": "stdout",
     "output_type": "stream",
     "text": [
      "MY FIRST PYTHON PROGRAM\n"
     ]
    }
   ],
   "source": [
    "#single line string\n",
    "a='MY FIRST PYTHON PROGRAM'\n",
    "print(a)\n"
   ]
  },
  {
   "cell_type": "code",
   "execution_count": 8,
   "id": "c3f8d4da-fcdf-422b-9487-d703a5c9a5d9",
   "metadata": {},
   "outputs": [
    {
     "name": "stdout",
     "output_type": "stream",
     "text": [
      "MY FIRST PYTHON PROGRAM\n",
      "MULTI LINE STATEMENTS\n"
     ]
    }
   ],
   "source": [
    "#multi line string\n",
    "a='''MY FIRST PYTHON PROGRAM\n",
    "MULTI LINE STATEMENTS'''\n",
    "print(a)"
   ]
  },
  {
   "cell_type": "code",
   "execution_count": 10,
   "id": "a347cb57-a636-4c26-b2ff-b1ff9475239f",
   "metadata": {},
   "outputs": [
    {
     "data": {
      "text/plain": [
       "30"
      ]
     },
     "execution_count": 10,
     "metadata": {},
     "output_type": "execute_result"
    }
   ],
   "source": [
    "#SUBTRACTION OF TWO NUMBER\n",
    "a=60\n",
    "b=30\n",
    "c=a-b\n",
    "c"
   ]
  },
  {
   "cell_type": "code",
   "execution_count": 11,
   "id": "d9c77094-358a-42b1-9ef6-3699cf58fc32",
   "metadata": {},
   "outputs": [
    {
     "data": {
      "text/plain": [
       "300"
      ]
     },
     "execution_count": 11,
     "metadata": {},
     "output_type": "execute_result"
    }
   ],
   "source": [
    "#MULTIPLICATION OF TWO NUMBER\n",
    "a=10\n",
    "b=30\n",
    "c=a*b\n",
    "c"
   ]
  },
  {
   "cell_type": "code",
   "execution_count": 12,
   "id": "9f9926a0-7228-4ff0-b757-119bd602805f",
   "metadata": {},
   "outputs": [
    {
     "data": {
      "text/plain": [
       "2.0"
      ]
     },
     "execution_count": 12,
     "metadata": {},
     "output_type": "execute_result"
    }
   ],
   "source": [
    "#DIVISION OF TWO NUMBER\n",
    "a=60\n",
    "b=30\n",
    "c=a/b\n",
    "c"
   ]
  },
  {
   "cell_type": "markdown",
   "id": "defb6881-f897-4429-9b8b-db2c5129cd45",
   "metadata": {},
   "source": [
    "#FLOOR DIVISION OF TWO NUMBER\n",
    "a=20\n",
    "b=3\n",
    "c=a//b\n",
    "c"
   ]
  },
  {
   "cell_type": "code",
   "execution_count": 14,
   "id": "2ed79142-f035-4142-8fc9-32d4ed60d9eb",
   "metadata": {},
   "outputs": [
    {
     "data": {
      "text/plain": [
       "4"
      ]
     },
     "execution_count": 14,
     "metadata": {},
     "output_type": "execute_result"
    }
   ],
   "source": [
    "#MODULUS OF TWO NUMBER\n",
    "a=40\n",
    "b=6\n",
    "c=a%b\n",
    "c"
   ]
  },
  {
   "cell_type": "markdown",
   "id": "e19303bc-9819-4c47-a88d-617fa6649c9f",
   "metadata": {},
   "source": [
    "# ASSIGNMNET OPERATOR"
   ]
  },
  {
   "cell_type": "markdown",
   "id": "ae1f0212-95cc-4361-a753-9d9704c4c4c7",
   "metadata": {},
   "source": [
    "<!-- #ASSIGNMENT OPERATOR\n",
    "=,+=,-=,*=,/=,//=,%= -->"
   ]
  },
  {
   "cell_type": "code",
   "execution_count": 26,
   "id": "77c3925e-6bc9-4b9a-9d1f-eff9593e0df2",
   "metadata": {},
   "outputs": [
    {
     "name": "stdout",
     "output_type": "stream",
     "text": [
      "10\n"
     ]
    }
   ],
   "source": [
    "a=10\n",
    "print(a)"
   ]
  },
  {
   "cell_type": "code",
   "execution_count": 16,
   "id": "0b31e34e-403c-4856-bc1a-376ce79a3245",
   "metadata": {},
   "outputs": [
    {
     "name": "stdout",
     "output_type": "stream",
     "text": [
      "20\n"
     ]
    }
   ],
   "source": [
    "a=10\n",
    "a+=10\n",
    "print(a)"
   ]
  },
  {
   "cell_type": "code",
   "execution_count": 17,
   "id": "663428eb-691c-4bb8-b357-85a43169cfdd",
   "metadata": {},
   "outputs": [
    {
     "name": "stdout",
     "output_type": "stream",
     "text": [
      "0\n"
     ]
    }
   ],
   "source": [
    "a=10\n",
    "a-=10\n",
    "print(a)"
   ]
  },
  {
   "cell_type": "code",
   "execution_count": 18,
   "id": "aa716f3c-af39-4a0e-97fc-e0b857433f0d",
   "metadata": {},
   "outputs": [
    {
     "name": "stdout",
     "output_type": "stream",
     "text": [
      "100\n"
     ]
    }
   ],
   "source": [
    "a=10\n",
    "a*=10\n",
    "print(a)"
   ]
  },
  {
   "cell_type": "code",
   "execution_count": 19,
   "id": "cfff69fb-affc-473f-9a30-8acee410ffb0",
   "metadata": {},
   "outputs": [
    {
     "name": "stdout",
     "output_type": "stream",
     "text": [
      "1.0\n"
     ]
    }
   ],
   "source": [
    "a=10\n",
    "a/=10\n",
    "print(a)"
   ]
  },
  {
   "cell_type": "code",
   "execution_count": 20,
   "id": "b59cf6a8-19d3-44c8-ba8e-09f8e17eb331",
   "metadata": {},
   "outputs": [
    {
     "name": "stdout",
     "output_type": "stream",
     "text": [
      "1\n"
     ]
    }
   ],
   "source": [
    "a=10\n",
    "a//=10\n",
    "print(a)"
   ]
  },
  {
   "cell_type": "markdown",
   "id": "121edb18-ca7b-4c0e-bc52-899fe0601bb4",
   "metadata": {},
   "source": [
    "# COMPARISON OPERATOR"
   ]
  },
  {
   "cell_type": "markdown",
   "id": "ac090c41-4b1b-427e-a624-4fc5b501d6fd",
   "metadata": {},
   "source": [
    "<!-- COMPARISON OPERATOR\n",
    "==,<=,>=,!= -->"
   ]
  },
  {
   "cell_type": "code",
   "execution_count": 27,
   "id": "baee2542-ecdd-4678-999b-56ff8ba5f472",
   "metadata": {},
   "outputs": [
    {
     "data": {
      "text/plain": [
       "False"
      ]
     },
     "execution_count": 27,
     "metadata": {},
     "output_type": "execute_result"
    }
   ],
   "source": [
    "a=10\n",
    "b=20\n",
    "a==b\n"
   ]
  },
  {
   "cell_type": "code",
   "execution_count": 23,
   "id": "768f2107-d106-41e2-8c1d-fe5ecaea4a27",
   "metadata": {},
   "outputs": [
    {
     "data": {
      "text/plain": [
       "True"
      ]
     },
     "execution_count": 23,
     "metadata": {},
     "output_type": "execute_result"
    }
   ],
   "source": [
    "a=10\n",
    "b=20\n",
    "a<=b"
   ]
  },
  {
   "cell_type": "code",
   "execution_count": 24,
   "id": "eb5b0c3b-0a59-4be3-87ca-968f045afb13",
   "metadata": {},
   "outputs": [
    {
     "data": {
      "text/plain": [
       "False"
      ]
     },
     "execution_count": 24,
     "metadata": {},
     "output_type": "execute_result"
    }
   ],
   "source": [
    "a=10\n",
    "b=20\n",
    "a>=b"
   ]
  },
  {
   "cell_type": "code",
   "execution_count": 25,
   "id": "76481b91-a47a-4254-a96e-eaea8d7eda05",
   "metadata": {},
   "outputs": [
    {
     "data": {
      "text/plain": [
       "True"
      ]
     },
     "execution_count": 25,
     "metadata": {},
     "output_type": "execute_result"
    }
   ],
   "source": [
    "a=10\n",
    "b=20\n",
    "a!=b"
   ]
  },
  {
   "cell_type": "markdown",
   "id": "466eaec7-9df9-419f-bc94-87a4a1c98d3f",
   "metadata": {},
   "source": [
    "# LOGICAL OPERATOR"
   ]
  },
  {
   "cell_type": "code",
   "execution_count": 29,
   "id": "1d9eb6e6-6b71-42bf-881b-e803be8606d0",
   "metadata": {},
   "outputs": [
    {
     "data": {
      "text/plain": [
       "True"
      ]
     },
     "execution_count": 29,
     "metadata": {},
     "output_type": "execute_result"
    }
   ],
   "source": [
    "True and True"
   ]
  },
  {
   "cell_type": "code",
   "execution_count": 32,
   "id": "2ee43a23-0c9f-46ee-b183-b7e79a7b931b",
   "metadata": {},
   "outputs": [
    {
     "data": {
      "text/plain": [
       "False"
      ]
     },
     "execution_count": 32,
     "metadata": {},
     "output_type": "execute_result"
    }
   ],
   "source": [
    "True and False"
   ]
  },
  {
   "cell_type": "code",
   "execution_count": 31,
   "id": "0da61fe5-c694-484c-96fa-3fad7b84fd54",
   "metadata": {},
   "outputs": [
    {
     "data": {
      "text/plain": [
       "False"
      ]
     },
     "execution_count": 31,
     "metadata": {},
     "output_type": "execute_result"
    }
   ],
   "source": [
    "False and True"
   ]
  },
  {
   "cell_type": "code",
   "execution_count": 30,
   "id": "19d7d7df-3699-4bd5-a724-c2caba4e886d",
   "metadata": {},
   "outputs": [
    {
     "data": {
      "text/plain": [
       "False"
      ]
     },
     "execution_count": 30,
     "metadata": {},
     "output_type": "execute_result"
    }
   ],
   "source": [
    "False and False"
   ]
  },
  {
   "cell_type": "code",
   "execution_count": 36,
   "id": "d06c2b2d-1f07-43b2-9b4b-6e77cf070007",
   "metadata": {},
   "outputs": [
    {
     "data": {
      "text/plain": [
       "1"
      ]
     },
     "execution_count": 36,
     "metadata": {},
     "output_type": "execute_result"
    }
   ],
   "source": [
    "1 and 1"
   ]
  },
  {
   "cell_type": "code",
   "execution_count": 35,
   "id": "bf11affb-7603-4be1-bf66-7cd66b44bc99",
   "metadata": {},
   "outputs": [
    {
     "data": {
      "text/plain": [
       "0"
      ]
     },
     "execution_count": 35,
     "metadata": {},
     "output_type": "execute_result"
    }
   ],
   "source": [
    "1 and 0"
   ]
  },
  {
   "cell_type": "code",
   "execution_count": 34,
   "id": "30eebac7-f897-4619-b94b-fee2f2387e2a",
   "metadata": {},
   "outputs": [
    {
     "data": {
      "text/plain": [
       "0"
      ]
     },
     "execution_count": 34,
     "metadata": {},
     "output_type": "execute_result"
    }
   ],
   "source": [
    "0 and 1"
   ]
  },
  {
   "cell_type": "code",
   "execution_count": 33,
   "id": "458f8003-2508-4e25-ae15-5dded121505c",
   "metadata": {},
   "outputs": [
    {
     "data": {
      "text/plain": [
       "0"
      ]
     },
     "execution_count": 33,
     "metadata": {},
     "output_type": "execute_result"
    }
   ],
   "source": [
    "0 and 0"
   ]
  },
  {
   "cell_type": "code",
   "execution_count": 37,
   "id": "fb7406e3-ed4e-4668-9f53-67c67f481db0",
   "metadata": {},
   "outputs": [
    {
     "data": {
      "text/plain": [
       "19"
      ]
     },
     "execution_count": 37,
     "metadata": {},
     "output_type": "execute_result"
    }
   ],
   "source": [
    "10 and 19"
   ]
  },
  {
   "cell_type": "code",
   "execution_count": 41,
   "id": "ff0c78a1-bf09-4b27-a64a-2f2f0827cca9",
   "metadata": {},
   "outputs": [
    {
     "data": {
      "text/plain": [
       "True"
      ]
     },
     "execution_count": 41,
     "metadata": {},
     "output_type": "execute_result"
    }
   ],
   "source": [
    "True or True"
   ]
  },
  {
   "cell_type": "code",
   "execution_count": 40,
   "id": "e99dbd7e-7f0c-4a8d-9964-c1f858ec2841",
   "metadata": {
    "scrolled": true
   },
   "outputs": [
    {
     "data": {
      "text/plain": [
       "True"
      ]
     },
     "execution_count": 40,
     "metadata": {},
     "output_type": "execute_result"
    }
   ],
   "source": [
    "True or False"
   ]
  },
  {
   "cell_type": "code",
   "execution_count": 39,
   "id": "5eda4312-66f9-4cde-9879-955a755b31c5",
   "metadata": {},
   "outputs": [
    {
     "data": {
      "text/plain": [
       "True"
      ]
     },
     "execution_count": 39,
     "metadata": {},
     "output_type": "execute_result"
    }
   ],
   "source": [
    "False or True"
   ]
  },
  {
   "cell_type": "code",
   "execution_count": 38,
   "id": "be327601-2dce-4ea0-87b4-b9415882a387",
   "metadata": {},
   "outputs": [
    {
     "data": {
      "text/plain": [
       "False"
      ]
     },
     "execution_count": 38,
     "metadata": {},
     "output_type": "execute_result"
    }
   ],
   "source": [
    "False or False"
   ]
  },
  {
   "cell_type": "code",
   "execution_count": 45,
   "id": "e90290f9-efca-4366-8c4c-be396eda6ded",
   "metadata": {},
   "outputs": [
    {
     "data": {
      "text/plain": [
       "1"
      ]
     },
     "execution_count": 45,
     "metadata": {},
     "output_type": "execute_result"
    }
   ],
   "source": [
    "1 or 1"
   ]
  },
  {
   "cell_type": "code",
   "execution_count": 44,
   "id": "19d61e83-221a-4c4f-aead-1735402b34e7",
   "metadata": {},
   "outputs": [
    {
     "data": {
      "text/plain": [
       "1"
      ]
     },
     "execution_count": 44,
     "metadata": {},
     "output_type": "execute_result"
    }
   ],
   "source": [
    "1 or 0"
   ]
  },
  {
   "cell_type": "code",
   "execution_count": 43,
   "id": "11738d88-81f9-4c27-9fbd-eadba458731c",
   "metadata": {},
   "outputs": [
    {
     "data": {
      "text/plain": [
       "1"
      ]
     },
     "execution_count": 43,
     "metadata": {},
     "output_type": "execute_result"
    }
   ],
   "source": [
    "0 or 1"
   ]
  },
  {
   "cell_type": "code",
   "execution_count": 42,
   "id": "0c83682e-a7bb-44e6-b37a-b23254658680",
   "metadata": {},
   "outputs": [
    {
     "data": {
      "text/plain": [
       "0"
      ]
     },
     "execution_count": 42,
     "metadata": {},
     "output_type": "execute_result"
    }
   ],
   "source": [
    "0 or 0"
   ]
  },
  {
   "cell_type": "code",
   "execution_count": 46,
   "id": "a1db5e1b-25c7-47d9-b24b-68a9ca7c1f24",
   "metadata": {},
   "outputs": [
    {
     "data": {
      "text/plain": [
       "10"
      ]
     },
     "execution_count": 46,
     "metadata": {},
     "output_type": "execute_result"
    }
   ],
   "source": [
    "10 or 19"
   ]
  },
  {
   "cell_type": "code",
   "execution_count": 47,
   "id": "bd0d9c8a-5603-48c4-9c49-fd6d40bf75fc",
   "metadata": {},
   "outputs": [
    {
     "data": {
      "text/plain": [
       "False"
      ]
     },
     "execution_count": 47,
     "metadata": {},
     "output_type": "execute_result"
    }
   ],
   "source": [
    "not(True)"
   ]
  },
  {
   "cell_type": "code",
   "execution_count": 48,
   "id": "157d823a-9eaa-426e-9b7b-35c8eb214ca9",
   "metadata": {},
   "outputs": [
    {
     "data": {
      "text/plain": [
       "True"
      ]
     },
     "execution_count": 48,
     "metadata": {},
     "output_type": "execute_result"
    }
   ],
   "source": [
    "not(False)"
   ]
  },
  {
   "cell_type": "code",
   "execution_count": 49,
   "id": "30c82a8d-5abe-4226-afb5-6ff5920c50a2",
   "metadata": {},
   "outputs": [
    {
     "data": {
      "text/plain": [
       "False"
      ]
     },
     "execution_count": 49,
     "metadata": {},
     "output_type": "execute_result"
    }
   ],
   "source": [
    "not(1)"
   ]
  },
  {
   "cell_type": "code",
   "execution_count": 50,
   "id": "f4d19de4-e7c6-49c4-b5ac-f3ab3fff6a6f",
   "metadata": {},
   "outputs": [
    {
     "data": {
      "text/plain": [
       "True"
      ]
     },
     "execution_count": 50,
     "metadata": {},
     "output_type": "execute_result"
    }
   ],
   "source": [
    "not(0)"
   ]
  },
  {
   "cell_type": "code",
   "execution_count": 51,
   "id": "a08d7814-1f32-4ea1-bfcb-723e9b2ff29c",
   "metadata": {},
   "outputs": [
    {
     "data": {
      "text/plain": [
       "False"
      ]
     },
     "execution_count": 51,
     "metadata": {},
     "output_type": "execute_result"
    }
   ],
   "source": [
    "not(10)"
   ]
  },
  {
   "cell_type": "code",
   "execution_count": 52,
   "id": "03da7430-67ab-4aa0-b548-5769c68c9db4",
   "metadata": {},
   "outputs": [
    {
     "data": {
      "text/plain": [
       "False"
      ]
     },
     "execution_count": 52,
     "metadata": {},
     "output_type": "execute_result"
    }
   ],
   "source": [
    "not(-10)"
   ]
  },
  {
   "cell_type": "code",
   "execution_count": 53,
   "id": "8de4ef22-1067-4a86-b285-c1cc41c2591c",
   "metadata": {},
   "outputs": [
    {
     "data": {
      "text/plain": [
       "False"
      ]
     },
     "execution_count": 53,
     "metadata": {},
     "output_type": "execute_result"
    }
   ],
   "source": [
    "not(48)"
   ]
  },
  {
   "cell_type": "markdown",
   "id": "309ead13-c070-4765-9580-12055501bb6a",
   "metadata": {},
   "source": [
    "# DATA TYPES"
   ]
  },
  {
   "cell_type": "code",
   "execution_count": null,
   "id": "b06bb0d8-5753-4b57-a266-aef1ac77ae66",
   "metadata": {},
   "outputs": [],
   "source": [
    "In Python there are very few data types\n",
    "1.)  int --->  used to store integer value.\n",
    "     Example:- salary=2500\n",
    "\n",
    "2.)  str --->  used to store string value.\n",
    "     Example:- name=\"Viyom Verma\"\n",
    "\n",
    "3.)  float ---> used to store decimal value.\n",
    "     Example:- amount= 2789.56\n",
    "\n",
    "when we have to store multiple values we use data types like:- \n",
    "\n",
    " #Array -> it can store the multiple values  of the same data types.\n",
    " Example:- friendnames =[\"rahul\", \"anshu\" , \"viyom\" , 123]\n",
    "        here the array friendname will not accept 123 as it is of different data types.\n",
    "            \n",
    "*  List:-  it can store mulitple value with different data types.\n",
    "           # Example:- FriendsNameAge = [\"rahul\" , \"anshu\", 123]\n",
    "*  Tuple:- it can store the multiple values but can not be modified,it typecast the variable.\n",
    "           #Example:-  \n",
    "*  Set :-  \n",
    "*  Dictionary\n",
    "\n",
    "'''How to find the data  type of any variable.\n",
    "amount=2500\n",
    "print(amount)\n",
    "print(type(amount))  ---> it will give output as (int)'''\n",
    "\n",
    "\n",
    "\n",
    "\n",
    "\n"
   ]
  },
  {
   "cell_type": "code",
   "execution_count": 2,
   "id": "7f6b3e93-bf84-4e98-a099-fda241ea4974",
   "metadata": {},
   "outputs": [
    {
     "name": "stdout",
     "output_type": "stream",
     "text": [
      "90.58\n",
      "<class 'float'>\n"
     ]
    }
   ],
   "source": [
    "#typecasting convert one data type to another data type\n",
    "\n",
    "price=90.58\n",
    "print(price)\n",
    "print(type(price))"
   ]
  },
  {
   "cell_type": "code",
   "execution_count": 4,
   "id": "5b0d9193-ab61-41d3-9ecf-1b3f38d76d56",
   "metadata": {},
   "outputs": [
    {
     "name": "stdout",
     "output_type": "stream",
     "text": [
      "90\n",
      "<class 'int'>\n"
     ]
    }
   ],
   "source": [
    "#convert to integer\n",
    "payPrice=int(price)\n",
    "print(payPrice)\n",
    "print(type(payPrice))"
   ]
  },
  {
   "cell_type": "code",
   "execution_count": 6,
   "id": "c7db23a1-9712-4375-ba3a-4c530e51039a",
   "metadata": {},
   "outputs": [
    {
     "name": "stdout",
     "output_type": "stream",
     "text": [
      "2599 and data type is <class 'str'>\n"
     ]
    }
   ],
   "source": [
    "#convert int to string\n",
    "amount =2599\n",
    "Stramount=str(amount)\n",
    "print(Stramount,\"and data type is\", type(Stramount))"
   ]
  },
  {
   "cell_type": "code",
   "execution_count": null,
   "id": "d1cb486d-5195-4505-b6cd-8e04d8e4468c",
   "metadata": {},
   "outputs": [],
   "source": [
    "'''convert string to int\n",
    "gender= \"male\"\n",
    "intGender= int(gender)\n",
    "print(gender,\"and data type is\", type(intGender))\n",
    "conversion not possible because string doesnt have ASCII values'''"
   ]
  },
  {
   "cell_type": "code",
   "execution_count": 12,
   "id": "f572fd30-d52b-4aa5-a62b-69f62e88cdf3",
   "metadata": {},
   "outputs": [
    {
     "name": "stdin",
     "output_type": "stream",
     "text": [
      "Enter your Name Viyom Verma\n"
     ]
    },
    {
     "name": "stdout",
     "output_type": "stream",
     "text": [
      "My name is Viyom Verma\n",
      "My name isViyom Verma\n"
     ]
    }
   ],
   "source": [
    "#how to take input from the users\n",
    "myName =input(\"Enter your Name\")\n",
    "print(\"My name is\",myName)\n",
    "print(\"My name is\" + myName)"
   ]
  },
  {
   "cell_type": "code",
   "execution_count": 5,
   "id": "e8fe6087-58f2-48fd-b256-c66434df0345",
   "metadata": {},
   "outputs": [
    {
     "name": "stdin",
     "output_type": "stream",
     "text": [
      "Enter your Name Viyom verma\n",
      "Enter your age 19\n"
     ]
    },
    {
     "name": "stdout",
     "output_type": "stream",
     "text": [
      "My name is  Viyom verma and age is 19\n"
     ]
    }
   ],
   "source": [
    "#how to take input from the users\n",
    "#replace + with , when data is not string\n",
    "\n",
    "\n",
    "myName =input(\"Enter your Name\")\n",
    "myAge= input(\"Enter your age\")\n",
    "print(\"My name is \",myName ,\"and age is\" ,int(myAge))"
   ]
  },
  {
   "cell_type": "code",
   "execution_count": 7,
   "id": "f9043b67-295d-41c5-a04f-a49dc94bf161",
   "metadata": {},
   "outputs": [
    {
     "name": "stdin",
     "output_type": "stream",
     "text": [
      "Enter your Name Viyom Verma\n",
      "Enter your age 19\n"
     ]
    },
    {
     "name": "stdout",
     "output_type": "stream",
     "text": [
      "My name is Viyom Verma and age is 19\n"
     ]
    }
   ],
   "source": [
    "#how to take input from the users\n",
    "#pass the variable in print statement with f{}\n",
    "\n",
    "\n",
    "myName =input(\"Enter your Name\")\n",
    "myAge= input(\"Enter your age\")\n",
    "print(f\"My name is {myName} and age is {int(myAge)}\")"
   ]
  },
  {
   "cell_type": "markdown",
   "id": "dc1aae31-72e8-4e2c-86f8-71fdbed3f918",
   "metadata": {},
   "source": [
    "# Decision Making"
   ]
  },
  {
   "cell_type": "code",
   "execution_count": null,
   "id": "a7fd667b-e164-473f-9104-f75bf29d1271",
   "metadata": {},
   "outputs": [],
   "source": [
    "'''if else is used as a decision making in the python.'''"
   ]
  },
  {
   "cell_type": "code",
   "execution_count": 14,
   "id": "5739580d-138f-4de7-81dd-366a29ff6529",
   "metadata": {},
   "outputs": [
    {
     "name": "stdin",
     "output_type": "stream",
     "text": [
      "Enter your age 27\n"
     ]
    },
    {
     "name": "stdout",
     "output_type": "stream",
     "text": [
      "You are eligible to vote\n"
     ]
    }
   ],
   "source": [
    "#Check you are eligible for voting or not\n",
    "# Get the age from the user\n",
    "userage=int(input(\"Enter your age\"))\n",
    "if userage>18:\n",
    "    print(\"You are eligible to vote\")\n",
    "else:\n",
    "    print(\"You are not eligible for voting\")\n",
    "    "
   ]
  },
  {
   "cell_type": "code",
   "execution_count": 16,
   "id": "87d1192b-fe72-4d1e-af9b-082a4e9f9f52",
   "metadata": {},
   "outputs": [
    {
     "name": "stdin",
     "output_type": "stream",
     "text": [
      "Enter a number 57\n"
     ]
    },
    {
     "name": "stdout",
     "output_type": "stream",
     "text": [
      "the number is odd\n"
     ]
    }
   ],
   "source": [
    "# Write a program to check whether the number is even or odd.\n",
    "num=int(input(\"Enter a number\"))\n",
    "if num%2==0:\n",
    "    print(\"the number is even\")\n",
    "else:\n",
    "    print(\"the number is odd\")"
   ]
  },
  {
   "cell_type": "markdown",
   "id": "a7ccc032-3e20-4f95-829c-1c2373de178e",
   "metadata": {},
   "source": [
    "# Iterative Loop"
   ]
  },
  {
   "cell_type": "code",
   "execution_count": 2,
   "id": "159e64a6-7096-4be2-ac24-defcef006e97",
   "metadata": {},
   "outputs": [
    {
     "name": "stdin",
     "output_type": "stream",
     "text": [
      "Enter your name Viyomm Verma\n"
     ]
    },
    {
     "name": "stdout",
     "output_type": "stream",
     "text": [
      "V\n",
      "i\n",
      "y\n",
      "o\n",
      "m\n",
      "m\n",
      " \n",
      "V\n",
      "e\n",
      "r\n",
      "m\n",
      "a\n"
     ]
    }
   ],
   "source": [
    "#For loop is used to complete the iteration or repeating the task\n",
    "name=input(\"Enter your name\")\n",
    "#iterate my name using for loop\n",
    "#example:- in c for(int i=0;i<10;i++)\n",
    "\n",
    "for i in name:\n",
    "    print(i)"
   ]
  },
  {
   "cell_type": "code",
   "execution_count": 4,
   "id": "42c87990-3f20-46e9-b6df-9fd0b4c379b3",
   "metadata": {},
   "outputs": [
    {
     "name": "stdout",
     "output_type": "stream",
     "text": [
      "1\n",
      "2\n",
      "3\n",
      "4\n",
      "5\n",
      "6\n",
      "7\n",
      "8\n",
      "9\n",
      "10\n"
     ]
    }
   ],
   "source": [
    "#print number from 1 to 10\n",
    "\n",
    "for x in range(1,11):\n",
    "    print(x)\n",
    "    "
   ]
  },
  {
   "cell_type": "code",
   "execution_count": 16,
   "id": "2694b91e-a77e-46f5-8520-f0fc607b6ffc",
   "metadata": {},
   "outputs": [
    {
     "name": "stdout",
     "output_type": "stream",
     "text": [
      "1\n",
      "3\n",
      "5\n",
      "7\n",
      "9\n",
      "11\n"
     ]
    }
   ],
   "source": [
    "#print this pattern using for loop :- 1 3 5 7 9 11\n",
    "\n",
    "for x in range(1,12):\n",
    "    if x%2 !=0:\n",
    "        {\n",
    "           print(x)\n",
    "        }"
   ]
  },
  {
   "cell_type": "code",
   "execution_count": 18,
   "id": "601bdb3e-59e4-44e8-8958-2d813ffc64f4",
   "metadata": {},
   "outputs": [
    {
     "name": "stdout",
     "output_type": "stream",
     "text": [
      "1\n",
      "3\n",
      "5\n",
      "7\n",
      "9\n",
      "11\n"
     ]
    }
   ],
   "source": [
    "#another way of printing patter\n",
    "for x in range(1,12,2):     #2 is the step size\n",
    "    print(x)\n",
    "    "
   ]
  },
  {
   "cell_type": "code",
   "execution_count": 20,
   "id": "8a8141e4-e439-4194-b75e-e4ee7a637bf2",
   "metadata": {},
   "outputs": [
    {
     "name": "stdout",
     "output_type": "stream",
     "text": [
      "even numbers\n",
      "2\n",
      "4\n",
      "6\n",
      "8\n",
      "10\n",
      "12\n",
      "14\n",
      "16\n",
      "18\n",
      "odd numbers\n",
      "1\n",
      "3\n",
      "5\n",
      "7\n",
      "9\n",
      "11\n",
      "13\n",
      "15\n",
      "17\n",
      "19\n"
     ]
    }
   ],
   "source": [
    "#print number from 1 to 20 even and odd :\n",
    "print(\"even numbers\")\n",
    "for x in range(1,20):\n",
    "    if x%2 ==0:\n",
    "        {\n",
    "           print(x)\n",
    "        }\n",
    "\n",
    "print(\"odd numbers\")\n",
    "for x in range(1,20):\n",
    "    if x%2 !=0:\n",
    "        {\n",
    "           print(x)\n",
    "        }"
   ]
  },
  {
   "cell_type": "markdown",
   "id": "44ae1daf-7b6d-4972-af72-cfc478f32ad1",
   "metadata": {},
   "source": [
    "# while loop"
   ]
  },
  {
   "cell_type": "code",
   "execution_count": 23,
   "id": "438c454f-f1a4-4a27-bf7f-f0e9d34ae7f0",
   "metadata": {},
   "outputs": [
    {
     "name": "stdout",
     "output_type": "stream",
     "text": [
      "1\n",
      "2\n",
      "3\n",
      "4\n",
      "5\n",
      "6\n",
      "7\n",
      "8\n",
      "9\n",
      "10\n"
     ]
    }
   ],
   "source": [
    "#while loop is used to perform iteration until condition is true\n",
    "\n",
    "#print the no from 1 to 10 using while loop\n",
    "x=1\n",
    "while x<11:\n",
    "    print(x)\n",
    "    x=x+1"
   ]
  },
  {
   "cell_type": "code",
   "execution_count": 32,
   "id": "c5a2bf08-0e33-4dac-8ad8-dd1d1be28ce4",
   "metadata": {},
   "outputs": [
    {
     "name": "stdout",
     "output_type": "stream",
     "text": [
      "10\n",
      "9\n",
      "8\n",
      "7\n",
      "6\n",
      "5\n",
      "4\n",
      "3\n",
      "2\n",
      "1\n"
     ]
    }
   ],
   "source": [
    "#print the no from 1 to 10 using while loop\n",
    "x=10\n",
    "while x>0:\n",
    "    print(x)\n",
    "    x=x-1"
   ]
  },
  {
   "cell_type": "code",
   "execution_count": 1,
   "id": "e5f03c98-e080-41d0-a12e-c5c91f9123b7",
   "metadata": {},
   "outputs": [
    {
     "name": "stdout",
     "output_type": "stream",
     "text": [
      "My function name is print\n",
      "my age is 33\n"
     ]
    }
   ],
   "source": [
    "#function can perform any task and it can reuse anytime\n",
    "\n",
    "def printName():\n",
    "    print(\"My function name is print\")\n",
    "\n",
    "\n",
    "#function calling\n",
    "printName()\n",
    "\n",
    "#argument function and parameter function\n",
    "def myAge(age):\n",
    "    print(\"my age is\",age)\n",
    "\n",
    "myAge(33)"
   ]
  },
  {
   "cell_type": "code",
   "execution_count": 5,
   "id": "dd3e142e-e8cb-4948-be9e-30ee016ca278",
   "metadata": {},
   "outputs": [
    {
     "name": "stdout",
     "output_type": "stream",
     "text": [
      "the area of square is 25\n"
     ]
    }
   ],
   "source": [
    "#find the area of square using function\n",
    "\n",
    "def area(s):\n",
    "    print(\"the area of square is\", s*s)\n",
    "\n",
    "area(5)"
   ]
  },
  {
   "cell_type": "code",
   "execution_count": null,
   "id": "7f884e3c-1856-4cab-8963-849b64e9576b",
   "metadata": {},
   "outputs": [],
   "source": [
    "#Zomato:- delivery cost , VAT, food cost , discount"
   ]
  },
  {
   "cell_type": "markdown",
   "id": "fc9f4fcb-e073-46bb-adbc-5308f7bc7926",
   "metadata": {},
   "source": [
    "# list"
   ]
  },
  {
   "cell_type": "code",
   "execution_count": null,
   "id": "7c9c84e0-e80f-4622-bea1-017223b80f6a",
   "metadata": {},
   "outputs": [],
   "source": [
    "'''list is used to store different types of data'''\n",
    "#list store different types of data like int ,string ,float\n",
    "\n"
   ]
  },
  {
   "cell_type": "code",
   "execution_count": 4,
   "id": "3575ec30-ee03-420e-bf49-6ff161116601",
   "metadata": {},
   "outputs": [
    {
     "name": "stdout",
     "output_type": "stream",
     "text": [
      "sakshi\n"
     ]
    }
   ],
   "source": [
    "#create a list and store your friends name\n",
    "friendsname=[\"amiti\",\"sakshi\"]\n",
    "\n",
    "#to access the data from the list\n",
    "#to get the single data from list---> listvariable[indexNo]\n",
    "\n",
    "\n",
    "print(friendsname[1])"
   ]
  },
  {
   "cell_type": "code",
   "execution_count": 10,
   "id": "aebc9600-f6f7-4112-85b9-4e4ef2054fc1",
   "metadata": {},
   "outputs": [
    {
     "name": "stdout",
     "output_type": "stream",
     "text": [
      "amiti\n",
      "sakshi\n",
      "devansh\n",
      "manan\n",
      "vishesh\n",
      "anushka\n",
      "harshita\n",
      "19\n",
      "18\n",
      "20\n",
      "34\n",
      "10\n",
      "29\n",
      "After adding data---------------------\n",
      "amiti\n",
      "sakshi\n",
      "devansh\n",
      "manan\n",
      "vishesh\n",
      "anushka\n",
      "harshita\n",
      "19\n",
      "18\n",
      "20\n",
      "34\n",
      "10\n",
      "29\n",
      "Viyom\n"
     ]
    }
   ],
   "source": [
    "friendsname=[\"amiti\",\"sakshi\",\"devansh\",\"manan\",\"vishesh\",\"anushka\",\"harshita\",19,18,20,34,10,29]\n",
    "#to print  the complete list\n",
    "\n",
    "for x in friendsname:\n",
    "    print(x)\n",
    "#to add data in the list\n",
    "print(\"After adding data---------------------\")\n",
    "friendsname.append(\"Viyom\")\n",
    "for x in friendsname:\n",
    "    print(x)"
   ]
  },
  {
   "cell_type": "code",
   "execution_count": 14,
   "id": "e94cc3dd-ee2b-4076-a443-da8da40d986e",
   "metadata": {},
   "outputs": [
    {
     "name": "stdout",
     "output_type": "stream",
     "text": [
      "amiti\n",
      "sakshi\n",
      "viyom\n",
      "devansh\n",
      "manan\n"
     ]
    }
   ],
   "source": [
    "#if u want to add the data on any position  \n",
    "friendsname=[\"amiti\",\"sakshi\",\"devansh\",\"manan\"]\n",
    "friendsname.insert(2,\"viyom\")\n",
    "for x in friendsname:\n",
    "    print(x)\n",
    "#list can have duplicate data"
   ]
  },
  {
   "cell_type": "code",
   "execution_count": 16,
   "id": "0d99135c-d82c-48ed-8b74-539bf6e631a4",
   "metadata": {},
   "outputs": [
    {
     "name": "stdout",
     "output_type": "stream",
     "text": [
      "new \n"
     ]
    }
   ],
   "source": [
    "print(\"new \")"
   ]
  },
  {
   "cell_type": "code",
   "execution_count": null,
   "id": "9a92880b-96cf-429b-87c4-bfc0b6f50d35",
   "metadata": {},
   "outputs": [],
   "source": []
  }
 ],
 "metadata": {
  "kernelspec": {
   "display_name": "Python 3 (ipykernel)",
   "language": "python",
   "name": "python3"
  },
  "language_info": {
   "codemirror_mode": {
    "name": "ipython",
    "version": 3
   },
   "file_extension": ".py",
   "mimetype": "text/x-python",
   "name": "python",
   "nbconvert_exporter": "python",
   "pygments_lexer": "ipython3",
   "version": "3.12.4"
  }
 },
 "nbformat": 4,
 "nbformat_minor": 5
}
