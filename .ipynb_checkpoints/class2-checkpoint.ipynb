{
 "cells": [
  {
   "cell_type": "markdown",
   "id": "299fdb96-8188-4034-b7e1-e7d02485eac8",
   "metadata": {},
   "source": [
    "# VARIABLES IN PYTHON"
   ]
  },
  {
   "cell_type": "code",
   "execution_count": null,
   "id": "25e6b6c4-99ba-460f-a384-de0c551eb971",
   "metadata": {},
   "outputs": [],
   "source": [
    "#Variables are containers for storing data values."
   ]
  },
  {
   "cell_type": "code",
   "execution_count": null,
   "id": "402b4c13-0f3a-44e6-8ab6-5c9b467db03b",
   "metadata": {},
   "outputs": [],
   "source": []
  },
  {
   "cell_type": "code",
   "execution_count": null,
   "id": "72ec26f4-dce3-44fb-8996-375577c54238",
   "metadata": {},
   "outputs": [],
   "source": []
  },
  {
   "cell_type": "code",
   "execution_count": null,
   "id": "e8824f29-1e8d-497c-83bd-ce7c15f958ce",
   "metadata": {},
   "outputs": [],
   "source": []
  },
  {
   "cell_type": "code",
   "execution_count": null,
   "id": "d99ac894-9aa0-454b-a4b1-49a2eff36d31",
   "metadata": {},
   "outputs": [],
   "source": []
  },
  {
   "cell_type": "code",
   "execution_count": null,
   "id": "66eb58df-771c-416b-8d5c-42ff61f65800",
   "metadata": {},
   "outputs": [],
   "source": []
  },
  {
   "cell_type": "code",
   "execution_count": null,
   "id": "9494097f-d587-4713-bd2d-a049599b85e5",
   "metadata": {},
   "outputs": [],
   "source": []
  },
  {
   "cell_type": "code",
   "execution_count": null,
   "id": "9ffb6c5f-6ef2-4474-89a2-1679ee6c0985",
   "metadata": {},
   "outputs": [],
   "source": []
  },
  {
   "cell_type": "code",
   "execution_count": null,
   "id": "1efa558c-ef5e-4adc-b377-f6c1c914fbff",
   "metadata": {},
   "outputs": [],
   "source": []
  },
  {
   "cell_type": "code",
   "execution_count": null,
   "id": "2a36701f-4b8a-4143-9295-f08fb2246211",
   "metadata": {},
   "outputs": [],
   "source": []
  }
 ],
 "metadata": {
  "kernelspec": {
   "display_name": "Python 3 (ipykernel)",
   "language": "python",
   "name": "python3"
  },
  "language_info": {
   "codemirror_mode": {
    "name": "ipython",
    "version": 3
   },
   "file_extension": ".py",
   "mimetype": "text/x-python",
   "name": "python",
   "nbconvert_exporter": "python",
   "pygments_lexer": "ipython3",
   "version": "3.12.4"
  }
 },
 "nbformat": 4,
 "nbformat_minor": 5
}
